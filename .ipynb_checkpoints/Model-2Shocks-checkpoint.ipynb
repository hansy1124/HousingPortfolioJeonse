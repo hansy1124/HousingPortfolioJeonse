{
 "cells": [
  {
   "cell_type": "markdown",
   "metadata": {},
   "source": [
    "# Shock Process\n",
    "\n",
    "In this file, I will come up with with the shock process that I will use when I numerically compute the solutions\n",
    "\n",
    "There are two methods possible.\n",
    "\n",
    "1) Christopher D. Carrol Lecture Note Method\n",
    "\n",
    "2) Tauchen 1986 - Finite State Markov Chain Approximations to Univariate and Vector Autoregressions - Economic Letters\n",
    "\n",
    "Here, I follow Carrol's method and Vestman 2019's method. Later I guess I should study 2) too, since it is used extensively."
   ]
  },
  {
   "cell_type": "code",
   "execution_count": 1,
   "metadata": {},
   "outputs": [],
   "source": [
    "#0. Library Setup\n",
    "\n",
    "#1) Importing Data\n",
    "import os\n",
    "from scipy.io import loadmat #Importing Matlab data\n",
    "\n",
    "#2) Dataset Manipulation\n",
    "import pandas as pd\n",
    "\n",
    "#3) Mathematical/Statistical computation\n",
    "import numpy as np\n",
    "import numpy.ma as ma #Correlation while ignoring the missing data\n",
    "import statistics as stat\n",
    "\n",
    "#4) Plotting\n",
    "import matplotlib\n",
    "import matplotlib.pyplot as plt\n",
    "# -> cf) magic function for IPython and Jupyter Notebook to show the graph well\n",
    "# -> cf) In original Python, % means remainder from the division so below will not work\n",
    "# -> cf) %matplotlib inline \n",
    "import matplotlib.dates as mdates #Date Library\n",
    "from matplotlib.patches import Rectangle\n",
    "\n",
    "#5) Regressions \n",
    "import statsmodels.formula.api as sm # Regression with Formula\n",
    "import statsmodels.api as sm\n",
    "from linearmodels.iv import IV2SLS\n",
    "from linearmodels.iv import results\n",
    "from linearmodels.compat.statsmodels import Summary\n",
    "from linearmodels.compat.statsmodels import summary\n",
    "from linearmodels.iv import compare\n",
    "#from linearmodels.datasets import mroz #Why Do We Need?\n",
    "#from linearmodels import PanelOLS #Maybe we do not need\n",
    "import statsmodels.formula.api as smf #For Newey-West Covariance Matrix\n",
    "\n",
    "#6) Regression Results to Tex Output\n",
    "from statsmodels.iolib.summary2 import summary_col # Regression Output Table\n",
    "#import tabulate\n",
    "#from tabulate import tabulate\n",
    "#print(tabulate([['Alice', 24], ['Bob', 19]], headers=['Name', 'Age'], tablefmt='orgtbl'))\n",
    "\n",
    "#7) Math\n",
    "import math\n",
    "\n",
    "#8) Random Number Generator\n",
    "import random\n",
    "\n",
    "#9) f-SOLVER\n",
    "import scipy\n",
    "from scipy import stats\n",
    "from scipy.stats import lognorm"
   ]
  },
  {
   "cell_type": "markdown",
   "metadata": {},
   "source": [
    "## 1. Importing Parameters to Generate Shocks\n",
    "\n",
    "We need six shocks (three shocks and three sub-shocks)\n",
    "\n",
    "0) Idiosyncratic labor income shock \\\n",
    "1) House price return shock \\\n",
    "2) Stock return shock \\\n",
    "3) Jeonse ratio shock (jeonse deposit as ratio to house price) #Later \\\n",
    "4) Rent Price shock (jeonse deposit as ratio to house price) #Later \\\n",
    "5) Moving shock "
   ]
  },
  {
   "cell_type": "code",
   "execution_count": 2,
   "metadata": {},
   "outputs": [],
   "source": [
    "#1.1. Read parameters for the shocks form parameter file.\n",
    "os.chdir(r'C:\\Users\\Owner\\Dropbox\\8. Python Space\\Research1-HousingPortfolioJeonseData\\Paramter')\n",
    "parameterset=pd.read_csv('parameter.csv')\n",
    "\n",
    "omega=parameterset['Parameter'][0]\n",
    "rho=parameterset['Parameter'][1]\n",
    "gamma=parameterset['Parameter'][2]\n",
    "beta=parameterset['Parameter'][3]\n",
    "xi=parameterset['Parameter'][4]\n",
    "alpha_f=parameterset['Parameter'][5]\n",
    "beta_b=parameterset['Parameter'][6]\n",
    "T_b=parameterset['Parameter'][7]\n",
    "lambda_r=parameterset['Parameter'][8]\n",
    "R_f=parameterset['Parameter'][9]\n",
    "mu_r=parameterset['Parameter'][10]\n",
    "mu_h=parameterset['Parameter'][11]\n",
    "tau_r=parameterset['Parameter'][12]\n",
    "Jbar=parameterset['Parameter'][13]\n",
    "delta_J=parameterset['Parameter'][14]\n",
    "phi_J=parameterset['Parameter'][15]\n",
    "chi=parameterset['Parameter'][16]\n",
    "delta=parameterset['Parameter'][17]\n",
    "phi_b=parameterset['Parameter'][18]\n",
    "phi=parameterset['Parameter'][19]\n",
    "Hbar=parameterset['Parameter'][20]\n",
    "delta_v=parameterset['Parameter'][21]\n",
    "delta_ep=parameterset['Parameter'][22]\n",
    "delta_n=parameterset['Parameter'][23]\n",
    "corrHS=parameterset['Parameter'][24]\n",
    "eta_en=parameterset['Parameter'][25]\n",
    "corrYS=parameterset['Parameter'][26]\n",
    "corrHY=parameterset['Parameter'][27]\n",
    "eta_nn=parameterset['Parameter'][28]\n",
    "eta_eo=parameterset['Parameter'][29]\n",
    "LT=parameterset['Parameter'][30]"
   ]
  },
  {
   "cell_type": "markdown",
   "metadata": {},
   "source": [
    "## 2. Generate Shocks as vectors - Carrol's Method\n",
    "\n",
    "Here, we use log-normal process\n",
    "- Log normal pdf is defined by two parameters : mu and standard deviation of normal distribution\n",
    "- Log normal shape is defined by three parameters : shape(=standard deviation), scale parameter(=exp(mu)), location parameter(usually zero)\n"
   ]
  },
  {
   "cell_type": "markdown",
   "metadata": {},
   "source": [
    "## 2.1. Labor Income Shock"
   ]
  },
  {
   "cell_type": "code",
   "execution_count": 3,
   "metadata": {},
   "outputs": [],
   "source": [
    "#2.1. Divide the probability range\n",
    "ns=10\n",
    "YgridP=np.linspace(0,0.9999, num=ns+1) #10 slots\n",
    "\n",
    "#2.2. Calculate the inverse cdf points - type of lognorm is 'rv_continuous'\n",
    "sd1=delta_v #standard deviation\n",
    "mu1=0 #mean - there is a parameter for this which will be added as constant in the model. (here always zero)\n",
    "YgridQ=np.array([])\n",
    "for i in range(0,len(YgridP)):\n",
    "    YgridQ = np.append(YgridQ, stats.lognorm(s=sd1, scale=np.exp(mu1)).ppf(YgridP[i]))\n",
    "    \n",
    "#2.3. Calculate the conditional expectation of each interval\n",
    "#Each value in the YgridV will have same measure (1/(len(YgridP)-1))\n",
    "#help(lognorm.expect)\n",
    "YgridV=np.array([])\n",
    "for i in range(0,len(YgridP)-1):\n",
    "    YgridV = np.append(YgridV, stats.lognorm(s=sd1, scale=np.exp(mu1)).expect(lb=YgridQ[i], ub=YgridQ[i+1], conditional=True))"
   ]
  },
  {
   "cell_type": "code",
   "execution_count": 4,
   "metadata": {},
   "outputs": [
    {
     "name": "stdout",
     "output_type": "stream",
     "text": [
      "*Length of YgridP is 11\n",
      "[0.      0.09999 0.19998 0.29997 0.39996 0.49995 0.59994 0.69993 0.79992\n",
      " 0.89991 0.9999 ]\n",
      "*Length of YgridQ is 11\n",
      "[0.         0.84837682 0.89763732 0.93492249 0.9680053  0.99998392\n",
      " 1.03301789 1.06956792 1.11398463 1.17863536 1.61147485]\n",
      "*Length of YgridV is 10\n",
      "[0.79946569 0.87467344 0.91682379 0.9516578  0.98399331 1.0163233\n",
      " 1.0508669  1.0908274  1.14351752 1.25384065]\n"
     ]
    }
   ],
   "source": [
    "#2.4. Outcome\n",
    "\n",
    "print('*Length of YgridP is',len(YgridP))\n",
    "print(YgridP)\n",
    "\n",
    "#Inverse CDF..\n",
    "print('*Length of YgridQ is',len(YgridQ))\n",
    "print(YgridQ)\n",
    "\n",
    "#Effectively, shock becomes uniform random variable with n possible values\n",
    "print('*Length of YgridV is',len(YgridV))\n",
    "print(YgridV)"
   ]
  },
  {
   "cell_type": "code",
   "execution_count": 5,
   "metadata": {},
   "outputs": [
    {
     "data": {
      "image/png": "[encoded data removed]",
      "text/plain": [
       "<Figure size 720x360 with 1 Axes>"
      ]
     },
     "metadata": {
      "needs_background": "light"
     },
     "output_type": "display_data"
    }
   ],
   "source": [
    "#2.4. Is Approximation good?\n",
    "fig = plt.figure(figsize=(10,5))\n",
    "\n",
    "ax1 = fig.add_subplot(111)\n",
    "\n",
    "ax1.plot(YgridV, YgridP[:-1], label='Approximatiotn with conditional expectation') #Conditional expectation approximated CDF\n",
    "ax1.plot(YgridQ,YgridP, label='Real CDF point by point') #Q real inverse CDF\n",
    "ax1.set_xlim([0, YgridV[-1]])\n",
    "ax1.set_ylim([0, 1])\n",
    "ax1.legend()\n",
    "ax1.title.set_text('Lognormal (shape='+str(sd1)+' & scale='+str(np.exp(mu1))+')')\n",
    "\n",
    "plt.show()"
   ]
  },
  {
   "cell_type": "markdown",
   "metadata": {},
   "source": [
    "## Important take-away\n",
    "- Mgrid1 has each point. Each point has same measure which is (1/n) \n",
    "- When we calculate the expectation, it becomes much easier! \n",
    "- YgridV : value for that \n",
    "- YgridP : probability for each value (grid) Ygripd[1] is the probability for each YgridV value \n",
    "- YgridQ : true inverse CDF point"
   ]
  },
  {
   "cell_type": "markdown",
   "metadata": {},
   "source": [
    "## 2.2. Stock Return Shock"
   ]
  },
  {
   "cell_type": "code",
   "execution_count": 6,
   "metadata": {},
   "outputs": [],
   "source": [
    "#2.2.1. Divide the probability range\n",
    "SgridP=np.linspace(0,0.9999, num=11) #10 slots\n",
    "\n",
    "#2.2.2. Calculate the inverse cdf points - type of lognorm is 'rv_continuous'\n",
    "sd1=delta_ep #standard deviation\n",
    "mu1=0 #mean - there is a parameter for this which will be added as constant in the model. (here always zero)\n",
    "SgridQ=np.array([])\n",
    "for i in range(0,len(SgridP)):\n",
    "    SgridQ = np.append(SgridQ, stats.lognorm(s=sd1, scale=np.exp(mu1)).ppf(SgridP[i]))\n",
    "    \n",
    "#2.2.3. Calculate the conditional expectation of each interval\n",
    "#Each value in the SgridV will have same measure (1/(len(SgridP)-1))\n",
    "#help(lognorm.expect)\n",
    "SgridV=np.array([])\n",
    "for i in range(0,len(SgridP)-1):\n",
    "    SgridV = np.append(SgridV, stats.lognorm(s=sd1, scale=np.exp(mu1)).expect(lb=SgridQ[i], ub=SgridQ[i+1], conditional=True))"
   ]
  },
  {
   "cell_type": "code",
   "execution_count": 7,
   "metadata": {},
   "outputs": [
    {
     "data": {
      "image/png": "[encoded data removed]",
      "text/plain": [
       "<Figure size 720x360 with 1 Axes>"
      ]
     },
     "metadata": {
      "needs_background": "light"
     },
     "output_type": "display_data"
    }
   ],
   "source": [
    "#2.2.4. Is Approximation good?\n",
    "fig = plt.figure(figsize=(10,5))\n",
    "\n",
    "ax1 = fig.add_subplot(111)\n",
    "\n",
    "ax1.plot(SgridV, SgridP[:-1], label='Approximatiotn with conditional expectation') #Conditional expectation approximated CDF\n",
    "ax1.plot(SgridQ, SgridP, label='Real CDF point by point') #Q real inverse CDF\n",
    "ax1.set_xlim([0, SgridV[-1]])\n",
    "ax1.set_ylim([0, 1])\n",
    "ax1.legend()\n",
    "ax1.title.set_text('Lognormal (shape='+str(sd1)+' & scale='+str(np.exp(mu1))+')')\n",
    "\n",
    "plt.show()"
   ]
  },
  {
   "cell_type": "markdown",
   "metadata": {},
   "source": [
    "## 2.3. Housing Return Shock"
   ]
  },
  {
   "cell_type": "code",
   "execution_count": 8,
   "metadata": {},
   "outputs": [],
   "source": [
    "#2.3.1. Divide the probability range\n",
    "HgridP=np.linspace(0,0.9999, num=11) #10 slots\n",
    "\n",
    "#2.3.2. Calculate the inverse cdf points - type of lognorm is 'rv_continuous'\n",
    "sd1=delta_n #standard deviation\n",
    "mu1=0 #mean - there is a parameter for this which will be added as constant in the model. (here always zero)\n",
    "HgridQ=np.array([])\n",
    "for i in range(0,len(HgridP)):\n",
    "    HgridQ = np.append(HgridQ, stats.lognorm(s=sd1, scale=np.exp(mu1)).ppf(HgridP[i]))\n",
    "    \n",
    "#2.3.3. Calculate the conditional expectation of each interval\n",
    "#Each value in the HgridV will have same measure (1/(len(HgridP)-1))\n",
    "#help(lognorm.expect)\n",
    "HgridV=np.array([])\n",
    "for i in range(0,len(HgridP)-1):\n",
    "    HgridV = np.append(HgridV, stats.lognorm(s=sd1, scale=np.exp(mu1)).expect(lb=HgridQ[i], ub=HgridQ[i+1], conditional=True))"
   ]
  },
  {
   "cell_type": "code",
   "execution_count": 9,
   "metadata": {
    "scrolled": true
   },
   "outputs": [
    {
     "data": {
      "image/png": "[encoded data removed]",
      "text/plain": [
       "<Figure size 720x360 with 1 Axes>"
      ]
     },
     "metadata": {
      "needs_background": "light"
     },
     "output_type": "display_data"
    }
   ],
   "source": [
    "#2.3.4. Is Approximation good?\n",
    "fig = plt.figure(figsize=(10,5))\n",
    "\n",
    "ax1 = fig.add_subplot(111)\n",
    "\n",
    "ax1.plot(HgridV, HgridP[:-1], label='Approximatiotn with conditional expectation') #Conditional expectation approximated CDF\n",
    "ax1.plot(HgridQ, HgridP, label='Real CDF point by point') #Q real inverse CDF\n",
    "ax1.set_xlim([0, HgridV[-1]])\n",
    "ax1.set_ylim([0, 1])\n",
    "ax1.legend()\n",
    "ax1.title.set_text('Lognormal (shape='+str(sd1)+' & scale='+str(np.exp(mu1))+')')\n",
    "\n",
    "plt.show()"
   ]
  },
  {
   "cell_type": "markdown",
   "metadata": {},
   "source": [
    "## 3. Merge Shocks into One set"
   ]
  },
  {
   "cell_type": "code",
   "execution_count": 10,
   "metadata": {},
   "outputs": [],
   "source": [
    "#3.1. Merge the shocks\n",
    "\n",
    "prob1=YgridP[1]-YgridP[0] #probability for each block\n",
    "Prob1=np.full((len(YgridV), 1), prob1)\n",
    "\n",
    "YgridV=np.reshape(YgridV, (len(YgridP)-1,1))\n",
    "HgridV=np.reshape(HgridV, (len(YgridP)-1,1))\n",
    "SgridV=np.reshape(SgridV, (len(YgridP)-1,1))\n",
    "\n",
    "YgridV1=np.log(YgridV) #change it into normal from log-normal\n",
    "HgridV1=np.log(HgridV) #change it into normal from log-normal\n",
    "SgridV1=np.log(SgridV) #change it into normal from log-normal\n",
    "\n",
    "SgridV_Y1=eta_eo*YgridV1 #correlated to stock return & placed in labor income process\n",
    "SgridV_H1=eta_en*YgridV1 #correlated to stock return & placed in housing return process\n",
    "HgridV_Y1=eta_nn*HgridV1 #correlated to housing return & placed in labor income process\n",
    "\n",
    "SgridV_Y1=np.reshape(SgridV_Y1, (len(YgridP)-1,1))\n",
    "SgridV_H1=np.reshape(SgridV_H1, (len(YgridP)-1,1))\n",
    "HgridV_Y1=np.reshape(HgridV_Y1, (len(YgridP)-1,1))\n",
    "\n",
    "\n",
    "Fullshockarray=np.concatenate((Prob1,\n",
    "                               YgridV1,\n",
    "                               HgridV1,\n",
    "                               SgridV1,\n",
    "                               SgridV_Y1,\n",
    "                               SgridV_H1,\n",
    "                               HgridV_Y1\n",
    "                              ), axis=1)\n",
    "\n",
    "Fullshockarray=pd.DataFrame(Fullshockarray)\n",
    "Fullshockarray.columns=['Prob','YgridV','HgridV','SgridV','SgridV_Y','SgridV_H','HgridV_Y']"
   ]
  },
  {
   "cell_type": "code",
   "execution_count": 11,
   "metadata": {},
   "outputs": [
    {
     "data": {
      "text/html": [
       "<div>\n",
       "<style scoped>\n",
       "    .dataframe tbody tr th:only-of-type {\n",
       "        vertical-align: middle;\n",
       "    }\n",
       "\n",
       "    .dataframe tbody tr th {\n",
       "        vertical-align: top;\n",
       "    }\n",
       "\n",
       "    .dataframe thead th {\n",
       "        text-align: right;\n",
       "    }\n",
       "</style>\n",
       "<table border=\"1\" class=\"dataframe\">\n",
       "  <thead>\n",
       "    <tr style=\"text-align: right;\">\n",
       "      <th></th>\n",
       "      <th>Prob</th>\n",
       "      <th>YgridV</th>\n",
       "      <th>HgridV</th>\n",
       "      <th>SgridV</th>\n",
       "      <th>SgridV_Y</th>\n",
       "      <th>SgridV_H</th>\n",
       "      <th>HgridV_Y</th>\n",
       "    </tr>\n",
       "  </thead>\n",
       "  <tbody>\n",
       "    <tr>\n",
       "      <td>0</td>\n",
       "      <td>0.09999</td>\n",
       "      <td>-0.223812</td>\n",
       "      <td>-0.347748</td>\n",
       "      <td>-0.347748</td>\n",
       "      <td>-0.014545</td>\n",
       "      <td>-0.248680</td>\n",
       "      <td>-0.028292</td>\n",
       "    </tr>\n",
       "    <tr>\n",
       "      <td>1</td>\n",
       "      <td>0.09999</td>\n",
       "      <td>-0.133905</td>\n",
       "      <td>-0.208623</td>\n",
       "      <td>-0.208623</td>\n",
       "      <td>-0.008702</td>\n",
       "      <td>-0.148783</td>\n",
       "      <td>-0.016973</td>\n",
       "    </tr>\n",
       "    <tr>\n",
       "      <td>2</td>\n",
       "      <td>0.09999</td>\n",
       "      <td>-0.086840</td>\n",
       "      <td>-0.135310</td>\n",
       "      <td>-0.135310</td>\n",
       "      <td>-0.005644</td>\n",
       "      <td>-0.096489</td>\n",
       "      <td>-0.011009</td>\n",
       "    </tr>\n",
       "    <tr>\n",
       "      <td>3</td>\n",
       "      <td>0.09999</td>\n",
       "      <td>-0.049550</td>\n",
       "      <td>-0.077197</td>\n",
       "      <td>-0.077197</td>\n",
       "      <td>-0.003220</td>\n",
       "      <td>-0.055055</td>\n",
       "      <td>-0.006281</td>\n",
       "    </tr>\n",
       "    <tr>\n",
       "      <td>4</td>\n",
       "      <td>0.09999</td>\n",
       "      <td>-0.016136</td>\n",
       "      <td>-0.025116</td>\n",
       "      <td>-0.025116</td>\n",
       "      <td>-0.001049</td>\n",
       "      <td>-0.017929</td>\n",
       "      <td>-0.002043</td>\n",
       "    </tr>\n",
       "    <tr>\n",
       "      <td>5</td>\n",
       "      <td>0.09999</td>\n",
       "      <td>0.016192</td>\n",
       "      <td>0.025278</td>\n",
       "      <td>0.025278</td>\n",
       "      <td>0.001052</td>\n",
       "      <td>0.017991</td>\n",
       "      <td>0.002057</td>\n",
       "    </tr>\n",
       "    <tr>\n",
       "      <td>6</td>\n",
       "      <td>0.09999</td>\n",
       "      <td>0.049615</td>\n",
       "      <td>0.077387</td>\n",
       "      <td>0.077387</td>\n",
       "      <td>0.003224</td>\n",
       "      <td>0.055128</td>\n",
       "      <td>0.006296</td>\n",
       "    </tr>\n",
       "    <tr>\n",
       "      <td>7</td>\n",
       "      <td>0.09999</td>\n",
       "      <td>0.086936</td>\n",
       "      <td>0.135580</td>\n",
       "      <td>0.135580</td>\n",
       "      <td>0.005650</td>\n",
       "      <td>0.096596</td>\n",
       "      <td>0.011031</td>\n",
       "    </tr>\n",
       "    <tr>\n",
       "      <td>8</td>\n",
       "      <td>0.09999</td>\n",
       "      <td>0.134109</td>\n",
       "      <td>0.209169</td>\n",
       "      <td>0.209169</td>\n",
       "      <td>0.008716</td>\n",
       "      <td>0.149010</td>\n",
       "      <td>0.017018</td>\n",
       "    </tr>\n",
       "    <tr>\n",
       "      <td>9</td>\n",
       "      <td>0.09999</td>\n",
       "      <td>0.226211</td>\n",
       "      <td>0.353878</td>\n",
       "      <td>0.353878</td>\n",
       "      <td>0.014701</td>\n",
       "      <td>0.251346</td>\n",
       "      <td>0.028791</td>\n",
       "    </tr>\n",
       "  </tbody>\n",
       "</table>\n",
       "</div>"
      ],
      "text/plain": [
       "      Prob    YgridV    HgridV    SgridV  SgridV_Y  SgridV_H  HgridV_Y\n",
       "0  0.09999 -0.223812 -0.347748 -0.347748 -0.014545 -0.248680 -0.028292\n",
       "1  0.09999 -0.133905 -0.208623 -0.208623 -0.008702 -0.148783 -0.016973\n",
       "2  0.09999 -0.086840 -0.135310 -0.135310 -0.005644 -0.096489 -0.011009\n",
       "3  0.09999 -0.049550 -0.077197 -0.077197 -0.003220 -0.055055 -0.006281\n",
       "4  0.09999 -0.016136 -0.025116 -0.025116 -0.001049 -0.017929 -0.002043\n",
       "5  0.09999  0.016192  0.025278  0.025278  0.001052  0.017991  0.002057\n",
       "6  0.09999  0.049615  0.077387  0.077387  0.003224  0.055128  0.006296\n",
       "7  0.09999  0.086936  0.135580  0.135580  0.005650  0.096596  0.011031\n",
       "8  0.09999  0.134109  0.209169  0.209169  0.008716  0.149010  0.017018\n",
       "9  0.09999  0.226211  0.353878  0.353878  0.014701  0.251346  0.028791"
      ]
     },
     "execution_count": 11,
     "metadata": {},
     "output_type": "execute_result"
    }
   ],
   "source": [
    "Fullshockarray # How does it look like?"
   ]
  },
  {
   "cell_type": "code",
   "execution_count": 12,
   "metadata": {},
   "outputs": [],
   "source": [
    "##Full-shocks - When I need log noraml\n",
    "#FullShockFinal=np.array([])\n",
    "#for i in range(0,len(YgridP)-1):\n",
    "#    for j in range(0,len(YgridP)-1):\n",
    "#        for k in range(0,len(YgridP)-1):\n",
    "#            c=np.array([[prob1**3],YgridV[j],HgridV[j],SgridV[k],SgridV_Y[k],SgridV_H[k],HgridV_Y[j]])\n",
    "#            FullShockFinal = np.append(FullShockFinal, c)\n",
    "#\n",
    "#FullShockFinal=FullShockFinal.reshape((len(YgridP)-1)**3,7)"
   ]
  },
  {
   "cell_type": "code",
   "execution_count": 13,
   "metadata": {},
   "outputs": [],
   "source": [
    "#Full-shocks - When I need noraml - I used YgridV not YgridV1\n",
    "FullShockFinal=np.array([])\n",
    "for i in range(0,len(YgridP)-1):\n",
    "    for j in range(0,len(YgridP)-1):\n",
    "        for k in range(0,len(YgridP)-1):\n",
    "            c=np.array([prob1**3,math.log(YgridV[i]),math.log(HgridV[j]),math.log(SgridV[k]),\n",
    "                        eta_eo*math.log(YgridV[k]),eta_en*math.log(YgridV[k]),eta_nn*math.log(HgridV[j])])\n",
    "            FullShockFinal = np.append(FullShockFinal, c)\n",
    "\n",
    "FullShockFinal=FullShockFinal.reshape((len(YgridP)-1)**3,7)"
   ]
  },
  {
   "cell_type": "code",
   "execution_count": 14,
   "metadata": {},
   "outputs": [
    {
     "data": {
      "text/plain": [
       "array([[ 0.0009997 , -0.22381167, -0.34774796, ..., -0.01454543,\n",
       "        -0.24867963, -0.02829205],\n",
       "       [ 0.0009997 , -0.22381167, -0.34774796, ..., -0.00870241,\n",
       "        -0.14878298, -0.02829205],\n",
       "       [ 0.0009997 , -0.22381167, -0.34774796, ..., -0.0056437 ,\n",
       "        -0.09648887, -0.02829205],\n",
       "       ...,\n",
       "       [ 0.0009997 ,  0.22621136,  0.3538781 , ...,  0.00564997,\n",
       "         0.09659611,  0.02879079],\n",
       "       [ 0.0009997 ,  0.22621136,  0.3538781 , ...,  0.0087157 ,\n",
       "         0.14901006,  0.02879079],\n",
       "       [ 0.0009997 ,  0.22621136,  0.3538781 , ...,  0.01470139,\n",
       "         0.25134596,  0.02879079]])"
      ]
     },
     "execution_count": 14,
     "metadata": {},
     "output_type": "execute_result"
    }
   ],
   "source": [
    "FullShockFinal # Each item is each possible case. All of them have same prob which is prob1=YgridP[1]-YgridP[0]"
   ]
  },
  {
   "cell_type": "code",
   "execution_count": 15,
   "metadata": {},
   "outputs": [],
   "source": [
    "FullShockFinal1=pd.DataFrame(FullShockFinal)\n",
    "FullShockFinal1.columns=['Prob','YgridV','HgridV','SgridV','SgridV_Y','SgridV_H','HgridV_Y']"
   ]
  },
  {
   "cell_type": "code",
   "execution_count": 16,
   "metadata": {},
   "outputs": [
    {
     "data": {
      "text/html": [
       "<div>\n",
       "<style scoped>\n",
       "    .dataframe tbody tr th:only-of-type {\n",
       "        vertical-align: middle;\n",
       "    }\n",
       "\n",
       "    .dataframe tbody tr th {\n",
       "        vertical-align: top;\n",
       "    }\n",
       "\n",
       "    .dataframe thead th {\n",
       "        text-align: right;\n",
       "    }\n",
       "</style>\n",
       "<table border=\"1\" class=\"dataframe\">\n",
       "  <thead>\n",
       "    <tr style=\"text-align: right;\">\n",
       "      <th></th>\n",
       "      <th>Prob</th>\n",
       "      <th>YgridV</th>\n",
       "      <th>HgridV</th>\n",
       "      <th>SgridV</th>\n",
       "      <th>SgridV_Y</th>\n",
       "      <th>SgridV_H</th>\n",
       "      <th>HgridV_Y</th>\n",
       "    </tr>\n",
       "  </thead>\n",
       "  <tbody>\n",
       "    <tr>\n",
       "      <td>0</td>\n",
       "      <td>0.001</td>\n",
       "      <td>-0.223812</td>\n",
       "      <td>-0.347748</td>\n",
       "      <td>-0.347748</td>\n",
       "      <td>-0.014545</td>\n",
       "      <td>-0.248680</td>\n",
       "      <td>-0.028292</td>\n",
       "    </tr>\n",
       "    <tr>\n",
       "      <td>1</td>\n",
       "      <td>0.001</td>\n",
       "      <td>-0.223812</td>\n",
       "      <td>-0.347748</td>\n",
       "      <td>-0.208623</td>\n",
       "      <td>-0.008702</td>\n",
       "      <td>-0.148783</td>\n",
       "      <td>-0.028292</td>\n",
       "    </tr>\n",
       "    <tr>\n",
       "      <td>2</td>\n",
       "      <td>0.001</td>\n",
       "      <td>-0.223812</td>\n",
       "      <td>-0.347748</td>\n",
       "      <td>-0.135310</td>\n",
       "      <td>-0.005644</td>\n",
       "      <td>-0.096489</td>\n",
       "      <td>-0.028292</td>\n",
       "    </tr>\n",
       "    <tr>\n",
       "      <td>3</td>\n",
       "      <td>0.001</td>\n",
       "      <td>-0.223812</td>\n",
       "      <td>-0.347748</td>\n",
       "      <td>-0.077197</td>\n",
       "      <td>-0.003220</td>\n",
       "      <td>-0.055055</td>\n",
       "      <td>-0.028292</td>\n",
       "    </tr>\n",
       "    <tr>\n",
       "      <td>4</td>\n",
       "      <td>0.001</td>\n",
       "      <td>-0.223812</td>\n",
       "      <td>-0.347748</td>\n",
       "      <td>-0.025116</td>\n",
       "      <td>-0.001049</td>\n",
       "      <td>-0.017929</td>\n",
       "      <td>-0.028292</td>\n",
       "    </tr>\n",
       "    <tr>\n",
       "      <td>...</td>\n",
       "      <td>...</td>\n",
       "      <td>...</td>\n",
       "      <td>...</td>\n",
       "      <td>...</td>\n",
       "      <td>...</td>\n",
       "      <td>...</td>\n",
       "      <td>...</td>\n",
       "    </tr>\n",
       "    <tr>\n",
       "      <td>995</td>\n",
       "      <td>0.001</td>\n",
       "      <td>0.226211</td>\n",
       "      <td>0.353878</td>\n",
       "      <td>0.025278</td>\n",
       "      <td>0.001052</td>\n",
       "      <td>0.017991</td>\n",
       "      <td>0.028791</td>\n",
       "    </tr>\n",
       "    <tr>\n",
       "      <td>996</td>\n",
       "      <td>0.001</td>\n",
       "      <td>0.226211</td>\n",
       "      <td>0.353878</td>\n",
       "      <td>0.077387</td>\n",
       "      <td>0.003224</td>\n",
       "      <td>0.055128</td>\n",
       "      <td>0.028791</td>\n",
       "    </tr>\n",
       "    <tr>\n",
       "      <td>997</td>\n",
       "      <td>0.001</td>\n",
       "      <td>0.226211</td>\n",
       "      <td>0.353878</td>\n",
       "      <td>0.135580</td>\n",
       "      <td>0.005650</td>\n",
       "      <td>0.096596</td>\n",
       "      <td>0.028791</td>\n",
       "    </tr>\n",
       "    <tr>\n",
       "      <td>998</td>\n",
       "      <td>0.001</td>\n",
       "      <td>0.226211</td>\n",
       "      <td>0.353878</td>\n",
       "      <td>0.209169</td>\n",
       "      <td>0.008716</td>\n",
       "      <td>0.149010</td>\n",
       "      <td>0.028791</td>\n",
       "    </tr>\n",
       "    <tr>\n",
       "      <td>999</td>\n",
       "      <td>0.001</td>\n",
       "      <td>0.226211</td>\n",
       "      <td>0.353878</td>\n",
       "      <td>0.353878</td>\n",
       "      <td>0.014701</td>\n",
       "      <td>0.251346</td>\n",
       "      <td>0.028791</td>\n",
       "    </tr>\n",
       "  </tbody>\n",
       "</table>\n",
       "<p>1000 rows × 7 columns</p>\n",
       "</div>"
      ],
      "text/plain": [
       "      Prob    YgridV    HgridV    SgridV  SgridV_Y  SgridV_H  HgridV_Y\n",
       "0    0.001 -0.223812 -0.347748 -0.347748 -0.014545 -0.248680 -0.028292\n",
       "1    0.001 -0.223812 -0.347748 -0.208623 -0.008702 -0.148783 -0.028292\n",
       "2    0.001 -0.223812 -0.347748 -0.135310 -0.005644 -0.096489 -0.028292\n",
       "3    0.001 -0.223812 -0.347748 -0.077197 -0.003220 -0.055055 -0.028292\n",
       "4    0.001 -0.223812 -0.347748 -0.025116 -0.001049 -0.017929 -0.028292\n",
       "..     ...       ...       ...       ...       ...       ...       ...\n",
       "995  0.001  0.226211  0.353878  0.025278  0.001052  0.017991  0.028791\n",
       "996  0.001  0.226211  0.353878  0.077387  0.003224  0.055128  0.028791\n",
       "997  0.001  0.226211  0.353878  0.135580  0.005650  0.096596  0.028791\n",
       "998  0.001  0.226211  0.353878  0.209169  0.008716  0.149010  0.028791\n",
       "999  0.001  0.226211  0.353878  0.353878  0.014701  0.251346  0.028791\n",
       "\n",
       "[1000 rows x 7 columns]"
      ]
     },
     "execution_count": 16,
     "metadata": {},
     "output_type": "execute_result"
    }
   ],
   "source": [
    "FullShockFinal1"
   ]
  },
  {
   "cell_type": "markdown",
   "metadata": {},
   "source": [
    "## 4. Save the Shock"
   ]
  },
  {
   "cell_type": "code",
   "execution_count": 17,
   "metadata": {},
   "outputs": [],
   "source": [
    "os.chdir(r'C:\\Users\\Owner\\Dropbox\\8. Python Space\\Research1-HousingPortfolioJeonseData\\Paramter')\n",
    "FullShockFinal1.to_csv('FullShockFinal1.csv', index=False)"
   ]
  }
 ],
 "metadata": {
  "kernelspec": {
   "display_name": "Python 3",
   "language": "python",
   "name": "python3"
  },
  "language_info": {
   "codemirror_mode": {
    "name": "ipython",
    "version": 3
   },
   "file_extension": ".py",
   "mimetype": "text/x-python",
   "name": "python",
   "nbconvert_exporter": "python",
   "pygments_lexer": "ipython3",
   "version": "3.7.4"
  }
 },
 "nbformat": 4,
 "nbformat_minor": 2
}
