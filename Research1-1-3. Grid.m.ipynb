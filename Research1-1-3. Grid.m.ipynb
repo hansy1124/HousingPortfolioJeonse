{
 "cells": [
  {
   "cell_type": "code",
   "execution_count": 2,
   "metadata": {},
   "outputs": [],
   "source": [
    "#Libraries\n",
    "#1) Importing Data\n",
    "import os\n",
    "from scipy.io import loadmat #Importing Matlab data\n",
    "\n",
    "#2) Dataset Manipulation\n",
    "import pandas as pd\n",
    "\n",
    "#3) Mathematical/Statistical computation\n",
    "import numpy as np\n",
    "import numpy.ma as ma #Correlation while ignoring the missing data\n",
    "import statistics as stat\n",
    "\n",
    "#4) Plotting\n",
    "import matplotlib\n",
    "import matplotlib.pyplot as plt\n",
    "# -> cf) magic function for IPython and Jupyter Notebook to show the graph well\n",
    "# -> cf) In original Python, % means remainder from the division so below will not work\n",
    "# -> cf) %matplotlib inline \n",
    "import matplotlib.dates as mdates #Date Library\n",
    "from matplotlib.patches import Rectangle\n",
    "\n",
    "#5) Regressions \n",
    "import statsmodels.formula.api as sm # Regression with Formula\n",
    "import statsmodels.api as sm\n",
    "from linearmodels.iv import IV2SLS\n",
    "from linearmodels.iv import results\n",
    "from linearmodels.compat.statsmodels import Summary\n",
    "from linearmodels.compat.statsmodels import summary\n",
    "from linearmodels.iv import compare\n",
    "#from linearmodels.datasets import mroz #Why Do We Need?\n",
    "#from linearmodels import PanelOLS #Maybe we do not need\n",
    "import statsmodels.formula.api as smf #For Newey-West Covariance Matrix\n",
    "\n",
    "#6) Regression Results to Tex Output\n",
    "from statsmodels.iolib.summary2 import summary_col # Regression Output Table\n",
    "#import tabulate\n",
    "#from tabulate import tabulate\n",
    "#print(tabulate([['Alice', 24], ['Bob', 19]], headers=['Name', 'Age'], tablefmt='orgtbl'))\n",
    "\n",
    "#7) Math\n",
    "import math\n",
    "\n",
    "#8) Random Number Generator\n",
    "import random\n",
    "\n",
    "#9) f-SOLVER\n",
    "import scipy"
   ]
  },
  {
   "cell_type": "code",
   "execution_count": 3,
   "metadata": {},
   "outputs": [],
   "source": [
    "#0. Read parameters for the shocks form parameter file.\n",
    "os.chdir('C:\\\\Users\\\\Owner\\\\Dropbox\\\\1. Research\\\\1. Risks in Household Portfolio Choice through Jeonse System\\\\Coding')\n",
    "parameterset=pd.read_csv('parameter.csv')  \n",
    "FullShockFinal=pd.read_csv('FullShockFinal1.csv')"
   ]
  },
  {
   "cell_type": "code",
   "execution_count": 7,
   "metadata": {},
   "outputs": [
    {
     "data": {
      "text/plain": [
       "array([[0.75222446, 0.80084545, 0.68602532, 0.05752248, 0.52057056,\n",
       "        0.13153865],\n",
       "       [0.75222446, 0.80084545, 0.75521066, 0.0618667 , 0.55988513,\n",
       "        0.13153865],\n",
       "       [0.75222446, 0.80084545, 0.79015289, 0.06401585, 0.57933466,\n",
       "        0.13153865],\n",
       "       ...,\n",
       "       [1.33093136, 1.24938436, 1.26558205, 0.09134496, 0.82665942,\n",
       "        0.20521105],\n",
       "       [1.33093136, 1.24938436, 1.3242553 , 0.09452189, 0.85541019,\n",
       "        0.20521105],\n",
       "       [1.33093136, 1.24938436, 1.46115177, 0.1017761 , 0.92105977,\n",
       "        0.20521105]])"
      ]
     },
     "execution_count": 7,
     "metadata": {},
     "output_type": "execute_result"
    }
   ],
   "source": [
    "#0.1. Import the data and parameters\n",
    "omega=parameterset['Parameter'][0]\n",
    "rho=parameterset['Parameter'][1]\n",
    "gamma=parameterset['Parameter'][2]\n",
    "beta=parameterset['Parameter'][3]\n",
    "xi=parameterset['Parameter'][4]\n",
    "alpha_f=parameterset['Parameter'][5]\n",
    "beta_b=parameterset['Parameter'][6]\n",
    "T_b=parameterset['Parameter'][7]\n",
    "lambda_r=parameterset['Parameter'][8]\n",
    "R_f=parameterset['Parameter'][9]\n",
    "mu_r=parameterset['Parameter'][10]\n",
    "mu_h=parameterset['Parameter'][11]\n",
    "tau_r=parameterset['Parameter'][12]\n",
    "Jbar=parameterset['Parameter'][13]\n",
    "delta_J=parameterset['Parameter'][14]\n",
    "phi_J=parameterset['Parameter'][15]\n",
    "chi=parameterset['Parameter'][16]\n",
    "delta=parameterset['Parameter'][17]\n",
    "phi_b=parameterset['Parameter'][18]\n",
    "phi=parameterset['Parameter'][19]\n",
    "Hbar=parameterset['Parameter'][20]\n",
    "delta_v=parameterset['Parameter'][21]\n",
    "delta_ep=parameterset['Parameter'][22]\n",
    "delta_n=parameterset['Parameter'][23]\n",
    "corrHS=parameterset['Parameter'][24]\n",
    "eta_en=parameterset['Parameter'][25]\n",
    "corrYS=parameterset['Parameter'][26]\n",
    "corrHY=parameterset['Parameter'][27]\n",
    "eta_nn=parameterset['Parameter'][28]\n",
    "eta_eo=parameterset['Parameter'][29]\n",
    "\n",
    "FullShockFinal=np.array(FullShockFinal)\n",
    "FullShockFinal"
   ]
  },
  {
   "cell_type": "code",
   "execution_count": 6,
   "metadata": {},
   "outputs": [
    {
     "data": {
      "text/plain": [
       "array([[0.75222446, 0.80084545, 0.68602532, 0.05752248, 0.52057056,\n",
       "        0.13153865],\n",
       "       [0.75222446, 0.80084545, 0.75521066, 0.0618667 , 0.55988513,\n",
       "        0.13153865],\n",
       "       [0.75222446, 0.80084545, 0.79015289, 0.06401585, 0.57933466,\n",
       "        0.13153865],\n",
       "       ...,\n",
       "       [1.33093136, 1.24938436, 1.26558205, 0.09134496, 0.82665942,\n",
       "        0.20521105],\n",
       "       [1.33093136, 1.24938436, 1.3242553 , 0.09452189, 0.85541019,\n",
       "        0.20521105],\n",
       "       [1.33093136, 1.24938436, 1.46115177, 0.1017761 , 0.92105977,\n",
       "        0.20521105]])"
      ]
     },
     "execution_count": 6,
     "metadata": {},
     "output_type": "execute_result"
    }
   ],
   "source": [
    "#1. What are the state variables? - y_t, P_t^h, h_(t-1)\n",
    "\n",
    "dimy = 30\n",
    "dimPH = 30\n",
    "dimh = 30\n",
    "\n",
    "#y_t, P_t^h for renter, jeonse renter, buyer\n",
    "SgridY=np.linspace(0,2, num=dimy) #30 slots #True corresponding value (Y_t / X_t) = labor income / Cash in hand\n",
    "SgridPH=np.linspace(0,100, num=dimPH) #30 slots #True corresponding value (P_h_t) = house price\n",
    "Sgridh=np.linspace(0,100, num=dimh) #30 slots #True corresponding value (h_{t-1}) = previous housing value / Cash in hand\n",
    "\n",
    "#y_t, P_t^h, h_(t-1) for stayer\n",
    "\n"
   ]
  }
 ],
 "metadata": {
  "kernelspec": {
   "display_name": "Python 3",
   "language": "python",
   "name": "python3"
  },
  "language_info": {
   "codemirror_mode": {
    "name": "ipython",
    "version": 3
   },
   "file_extension": ".py",
   "mimetype": "text/x-python",
   "name": "python",
   "nbconvert_exporter": "python",
   "pygments_lexer": "ipython3",
   "version": "3.7.4"
  }
 },
 "nbformat": 4,
 "nbformat_minor": 2
}
