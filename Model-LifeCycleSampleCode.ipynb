{
 "cells": [
  {
   "cell_type": "code",
   "execution_count": 1,
   "metadata": {},
   "outputs": [],
   "source": [
    "#Conventional One"
   ]
  },
  {
   "cell_type": "code",
   "execution_count": 71,
   "metadata": {},
   "outputs": [],
   "source": [
    "#--------------------------------#\n",
    "#         House-keeping          #\n",
    "#--------------------------------#\n",
    "\n",
    "import numpy\n",
    "import math\n",
    "import time\n",
    "from scipy.stats import norm\n",
    "from joblib import Parallel, delayed\n",
    "import multiprocessing\n",
    "import sys"
   ]
  },
  {
   "cell_type": "code",
   "execution_count": 72,
   "metadata": {},
   "outputs": [],
   "source": [
    "#Number of Workers\n",
    "num_cores = 1"
   ]
  },
  {
   "cell_type": "code",
   "execution_count": 73,
   "metadata": {},
   "outputs": [],
   "source": [
    "# Grid for x\n",
    "nx            = 1500;\n",
    "xmin          = 0.1;\n",
    "xmax          = 4.0;"
   ]
  },
  {
   "cell_type": "code",
   "execution_count": 74,
   "metadata": {},
   "outputs": [],
   "source": [
    "# Grid for e: parameters for Tauchen\n",
    "ne            = 15;\n",
    "ssigma_eps    = 0.02058;\n",
    "llambda_eps   = 0.99;\n",
    "m             = 1.5;"
   ]
  },
  {
   "cell_type": "code",
   "execution_count": 75,
   "metadata": {},
   "outputs": [],
   "source": [
    "# Utility function\n",
    "ssigma        = 2;\n",
    "bbeta         = 0.97;\n",
    "T             = 10;"
   ]
  },
  {
   "cell_type": "code",
   "execution_count": 76,
   "metadata": {},
   "outputs": [],
   "source": [
    "# Prices\n",
    "r             = 0.07;\n",
    "w             = 5;"
   ]
  },
  {
   "cell_type": "code",
   "execution_count": 77,
   "metadata": {},
   "outputs": [],
   "source": [
    "# Initialize the grid for X\n",
    "xgrid = numpy.zeros(nx)"
   ]
  },
  {
   "cell_type": "code",
   "execution_count": 78,
   "metadata": {},
   "outputs": [],
   "source": [
    "# Initialize the grid for E and the transition probability matrix\n",
    "egrid = numpy.zeros(ne)\n",
    "P     = numpy.zeros((ne, ne))"
   ]
  },
  {
   "cell_type": "code",
   "execution_count": 79,
   "metadata": {},
   "outputs": [],
   "source": [
    "# Initialize value function V\n",
    "V     = numpy.zeros((T, nx, ne))"
   ]
  },
  {
   "cell_type": "code",
   "execution_count": 80,
   "metadata": {},
   "outputs": [
    {
     "data": {
      "text/plain": [
       "10"
      ]
     },
     "execution_count": 80,
     "metadata": {},
     "output_type": "execute_result"
    }
   ],
   "source": [
    "len(V) # Number of period"
   ]
  },
  {
   "cell_type": "code",
   "execution_count": 81,
   "metadata": {},
   "outputs": [
    {
     "data": {
      "text/plain": [
       "1500"
      ]
     },
     "execution_count": 81,
     "metadata": {},
     "output_type": "execute_result"
    }
   ],
   "source": [
    "len(V[0]) # For each age, possible state values"
   ]
  },
  {
   "cell_type": "code",
   "execution_count": 82,
   "metadata": {},
   "outputs": [
    {
     "data": {
      "text/plain": [
       "15"
      ]
     },
     "execution_count": 82,
     "metadata": {},
     "output_type": "execute_result"
    }
   ],
   "source": [
    "len(V[0][0]) # For each state x, possible shocks"
   ]
  },
  {
   "cell_type": "code",
   "execution_count": 83,
   "metadata": {},
   "outputs": [],
   "source": [
    "#--------------------------------#\n",
    "#         Grid creation          #\n",
    "#--------------------------------#\n",
    "\n",
    "# Function to construct the grid for capital (x)\n",
    "size = nx;\n",
    "xstep = (xmax - xmin) /(size - 1);\n",
    "it = 0;\n",
    "for i in range(0,nx):\n",
    "    xgrid[i] = xmin + it*xstep;\n",
    "    it = it+1;"
   ]
  },
  {
   "cell_type": "code",
   "execution_count": 84,
   "metadata": {},
   "outputs": [
    {
     "data": {
      "text/plain": [
       "array([0.1       , 0.10260173, 0.10520347, ..., 3.99479653, 3.99739827,\n",
       "       4.        ])"
      ]
     },
     "execution_count": 84,
     "metadata": {},
     "output_type": "execute_result"
    }
   ],
   "source": [
    "xgrid # Possible state variable values"
   ]
  },
  {
   "cell_type": "code",
   "execution_count": 85,
   "metadata": {},
   "outputs": [],
   "source": [
    "# Function to construct the grid for productivity (e) using Tauchen (1986)\n",
    "size = ne;\n",
    "ssigma_y = math.sqrt(math.pow(ssigma_eps, 2) / (1 - math.pow(llambda_eps,2)));\n",
    "estep = 2*ssigma_y*m / (size-1);\n",
    "it = 0;\n",
    "for i in range(0,ne):\n",
    "    egrid[i] = (-m*math.sqrt(math.pow(ssigma_eps, 2) / (1 - math.pow(llambda_eps,2))) + it*estep);\n",
    "    it = it+1;"
   ]
  },
  {
   "cell_type": "code",
   "execution_count": 86,
   "metadata": {
    "scrolled": true
   },
   "outputs": [
    {
     "data": {
      "text/plain": [
       "array([-0.21883163, -0.18756997, -0.15630831, -0.12504664, -0.09378498,\n",
       "       -0.06252332, -0.03126166,  0.        ,  0.03126166,  0.06252332,\n",
       "        0.09378498,  0.12504664,  0.15630831,  0.18756997,  0.21883163])"
      ]
     },
     "execution_count": 86,
     "metadata": {},
     "output_type": "execute_result"
    }
   ],
   "source": [
    "egrid # possible 15 shocks"
   ]
  },
  {
   "cell_type": "code",
   "execution_count": 87,
   "metadata": {},
   "outputs": [],
   "source": [
    "# Function to construct the transition probability matrix for productivity (P) using Tauchen (1986)\n",
    "mm = egrid[1] - egrid[0];\n",
    "for j in range(0,ne):\n",
    "    for k in range(0,ne):\n",
    "        if (k == 0):\n",
    "            P[j, k] = norm.cdf((egrid[k] - llambda_eps*egrid[j] + (mm/2))/ssigma_eps);\n",
    "        elif (k == ne-1):\n",
    "            P[j, k] = 1 - norm.cdf((egrid[k] - llambda_eps*egrid[j] - (mm/2))/ssigma_eps);\n",
    "        else:\n",
    "            P[j, k] = norm.cdf((egrid[k] - llambda_eps*egrid[j] + (mm/2))/ssigma_eps) - norm.cdf((egrid[k] - llambda_eps*egrid[j] - (mm/2))/ssigma_eps);"
   ]
  },
  {
   "cell_type": "code",
   "execution_count": 88,
   "metadata": {},
   "outputs": [
    {
     "data": {
      "text/plain": [
       "0.03126166114086759"
      ]
     },
     "execution_count": 88,
     "metadata": {},
     "output_type": "execute_result"
    }
   ],
   "source": [
    "mm"
   ]
  },
  {
   "cell_type": "code",
   "execution_count": 89,
   "metadata": {},
   "outputs": [
    {
     "data": {
      "text/plain": [
       "array([7.43180973e-01, 2.41899285e-01, 1.48081627e-02, 1.11484939e-04,\n",
       "       9.42709976e-08, 8.52351523e-12, 1.11022302e-16, 0.00000000e+00,\n",
       "       0.00000000e+00, 0.00000000e+00, 0.00000000e+00, 0.00000000e+00,\n",
       "       0.00000000e+00, 0.00000000e+00, 0.00000000e+00])"
      ]
     },
     "execution_count": 89,
     "metadata": {},
     "output_type": "execute_result"
    }
   ],
   "source": [
    "P[0]"
   ]
  },
  {
   "cell_type": "code",
   "execution_count": 90,
   "metadata": {},
   "outputs": [],
   "source": [
    "# Exponential of the grid e\n",
    "for i in range(0,ne):\n",
    "\tegrid[i] = math.exp(egrid[i]);"
   ]
  },
  {
   "cell_type": "code",
   "execution_count": 92,
   "metadata": {},
   "outputs": [
    {
     "data": {
      "text/plain": [
       "array([0.80345699, 0.82897112, 0.85529546, 0.88245574, 0.91047851,\n",
       "       0.93939115, 0.96922193, 1.        , 1.03175544, 1.06451929,\n",
       "       1.09832356, 1.13320131, 1.16918661, 1.20631465, 1.2446217 ])"
      ]
     },
     "execution_count": 92,
     "metadata": {},
     "output_type": "execute_result"
    }
   ],
   "source": [
    "egrid"
   ]
  },
  {
   "cell_type": "code",
   "execution_count": 93,
   "metadata": {},
   "outputs": [],
   "source": [
    "#--------------------------------#\n",
    "#     Structure and function     #\n",
    "#--------------------------------#\n",
    "\n",
    "# Value function\n",
    "VV = math.pow(-10.0, 5); # just power function -10^5"
   ]
  },
  {
   "cell_type": "code",
   "execution_count": 94,
   "metadata": {},
   "outputs": [],
   "source": [
    "# Data structure of state and exogenous variables\n",
    "class modelState(object):\n",
    "    def __init__(self,ind,ne,nx,T,age,P,xgrid,egrid,ssigma,bbeta,w,r):\n",
    "        self.ind\t\t= ind # combination of state vars\n",
    "        self.ne\t\t\t= ne # number of point on e-grid (shock)\n",
    "        self.nx\t\t\t= nx # number of point on x-grid (wealth)\n",
    "        self.T\t\t\t= T #last age (death)\n",
    "        self.age\t\t= age #age\n",
    "        self.P\t\t\t= P #transition prob matrix\n",
    "        self.xgrid\t\t= xgrid #state var - maybe saving?\n",
    "        self.egrid\t\t= egrid #possible shock grid\n",
    "        self.ssigma\t\t= ssigma #utility fct CRRA coefficient\n",
    "        self.bbeta\t\t= bbeta #discount factor\n",
    "        self.w\t\t\t= w #wage\n",
    "        self.r\t\t\t= r #interest rate "
   ]
  },
  {
   "cell_type": "code",
   "execution_count": 95,
   "metadata": {
    "scrolled": true
   },
   "outputs": [
    {
     "data": {
      "text/plain": [
       "__main__.modelState"
      ]
     },
     "execution_count": 95,
     "metadata": {},
     "output_type": "execute_result"
    }
   ],
   "source": [
    "modelState"
   ]
  },
  {
   "cell_type": "code",
   "execution_count": 96,
   "metadata": {},
   "outputs": [
    {
     "data": {
      "text/plain": [
       "array([[[0., 0., 0., ..., 0., 0., 0.],\n",
       "        [0., 0., 0., ..., 0., 0., 0.],\n",
       "        [0., 0., 0., ..., 0., 0., 0.],\n",
       "        ...,\n",
       "        [0., 0., 0., ..., 0., 0., 0.],\n",
       "        [0., 0., 0., ..., 0., 0., 0.],\n",
       "        [0., 0., 0., ..., 0., 0., 0.]],\n",
       "\n",
       "       [[0., 0., 0., ..., 0., 0., 0.],\n",
       "        [0., 0., 0., ..., 0., 0., 0.],\n",
       "        [0., 0., 0., ..., 0., 0., 0.],\n",
       "        ...,\n",
       "        [0., 0., 0., ..., 0., 0., 0.],\n",
       "        [0., 0., 0., ..., 0., 0., 0.],\n",
       "        [0., 0., 0., ..., 0., 0., 0.]],\n",
       "\n",
       "       [[0., 0., 0., ..., 0., 0., 0.],\n",
       "        [0., 0., 0., ..., 0., 0., 0.],\n",
       "        [0., 0., 0., ..., 0., 0., 0.],\n",
       "        ...,\n",
       "        [0., 0., 0., ..., 0., 0., 0.],\n",
       "        [0., 0., 0., ..., 0., 0., 0.],\n",
       "        [0., 0., 0., ..., 0., 0., 0.]],\n",
       "\n",
       "       ...,\n",
       "\n",
       "       [[0., 0., 0., ..., 0., 0., 0.],\n",
       "        [0., 0., 0., ..., 0., 0., 0.],\n",
       "        [0., 0., 0., ..., 0., 0., 0.],\n",
       "        ...,\n",
       "        [0., 0., 0., ..., 0., 0., 0.],\n",
       "        [0., 0., 0., ..., 0., 0., 0.],\n",
       "        [0., 0., 0., ..., 0., 0., 0.]],\n",
       "\n",
       "       [[0., 0., 0., ..., 0., 0., 0.],\n",
       "        [0., 0., 0., ..., 0., 0., 0.],\n",
       "        [0., 0., 0., ..., 0., 0., 0.],\n",
       "        ...,\n",
       "        [0., 0., 0., ..., 0., 0., 0.],\n",
       "        [0., 0., 0., ..., 0., 0., 0.],\n",
       "        [0., 0., 0., ..., 0., 0., 0.]],\n",
       "\n",
       "       [[0., 0., 0., ..., 0., 0., 0.],\n",
       "        [0., 0., 0., ..., 0., 0., 0.],\n",
       "        [0., 0., 0., ..., 0., 0., 0.],\n",
       "        ...,\n",
       "        [0., 0., 0., ..., 0., 0., 0.],\n",
       "        [0., 0., 0., ..., 0., 0., 0.],\n",
       "        [0., 0., 0., ..., 0., 0., 0.]]])"
      ]
     },
     "execution_count": 96,
     "metadata": {},
     "output_type": "execute_result"
    }
   ],
   "source": [
    "V # will save the result here"
   ]
  },
  {
   "cell_type": "code",
   "execution_count": 97,
   "metadata": {},
   "outputs": [],
   "source": [
    "# Function that returns value for a given state\n",
    "# ind: a unique state that corresponds to a pair (ie,ix) - ie - labor productivity shock!\n",
    "def value_func(states): #a fct that receives a 'state object'\n",
    "\n",
    "\tind = states.ind \n",
    "\tne = states.ne\n",
    "\tnx = states.nx\n",
    "\tT = states.T\n",
    "\tage = states.age\n",
    "\tP = states.P\n",
    "\txgrid = states.xgrid\n",
    "\tegrid = states.egrid\n",
    "\tssigma = states.ssigma\n",
    "\tbbeta = states.bbeta\n",
    "\tw = states.w\n",
    "\tr = states.r\n",
    "\n",
    "#maht.floor - largest integer less than or equal to ind/ne\n",
    "\tix = int(math.floor(ind/ne)); #just dividing\n",
    "\tie = int(math.floor(ind%ne)); #remainder after ind divided by ne .. 17%5 = 2\n",
    "\n",
    "\tVV = math.pow(-10.0, 3) #-10^3 - bottom of utility I guess..?\n",
    "\tfor ixp in range(0,nx): # - for every possible next wealth state,\n",
    "        #1. Form a expectation about the future\n",
    "\t\texpected = 0.0; # calculate the expectation\n",
    "\t\tif(age < T-1): #before you die, \n",
    "\t\t\tfor iep in range(0,ne): # - for every possible next realization of the shock \n",
    "\t\t\t\texpected = expected + P[ie, iep]*V[age+1, ixp, iep] # form an expectation - for last period... haha no error\n",
    "        #If you are not in the last period, expectation is not zero\n",
    "        #2. Possible consumption functions\n",
    "\t\tcons  = (1 + r)*xgrid[ix] + egrid[ie]*w - xgrid[ixp]; #current state interest rate, wage, next period saving\n",
    "        \n",
    "        #3. Utility calculation\n",
    "\t\tutility = math.pow(cons, (1-ssigma))/(1-ssigma) + bbeta*expected;\n",
    "        \n",
    "        #Boundary.. / Borrowing limit (incomplete market)\n",
    "\t\tif(cons <= 0):\n",
    "\t\t\tutility = math.pow(-10.0,5); #any big super negative number will work\n",
    "\t\t\n",
    "\t\tif(utility >= VV): # 최대값을 걸러내는 장소 .. 어떤 state에서 다음 어떤 state로 갈지 결정하는거지 \n",
    "            #다음 state를 1로 했을 때 만약에 다음 state를 0이라고 잡은 value function보다 높으면 고 아니면 업데이트 안한다.\n",
    "            #사실 이 function은 value function만 계산하고 optimal policy는 안보인다?\n",
    "\t\t\tVV = utility;\n",
    "\n",
    "\t\tutility = 0.0;\n",
    "\n",
    "\treturn[VV]; #so for this function, for given state, it results in the maximum value that household can achieve!"
   ]
  },
  {
   "cell_type": "code",
   "execution_count": 98,
   "metadata": {},
   "outputs": [
    {
     "name": "stdout",
     "output_type": "stream",
     "text": [
      " \n",
      "Life cycle computation: \n",
      " \n",
      "Age:  10 . Time:  65.1433  seconds.\n",
      "Age:  9 . Time:  463.7921  seconds.\n",
      "Age:  8 . Time:  847.9525  seconds.\n",
      "Age:  7 . Time:  1231.3666  seconds.\n"
     ]
    },
    {
     "ename": "KeyboardInterrupt",
     "evalue": "",
     "output_type": "error",
     "traceback": [
      "\u001b[1;31m---------------------------------------------------------------------------\u001b[0m",
      "\u001b[1;31mKeyboardInterrupt\u001b[0m                         Traceback (most recent call last)",
      "\u001b[1;32m<ipython-input-98-5368f142a5d6>\u001b[0m in \u001b[0;36m<module>\u001b[1;34m\u001b[0m\n\u001b[0;32m     13\u001b[0m \u001b[1;33m\u001b[0m\u001b[0m\n\u001b[0;32m     14\u001b[0m         \u001b[1;31m# This function computes `value_func` in parallel for all the states\u001b[0m\u001b[1;33m\u001b[0m\u001b[1;33m\u001b[0m\u001b[1;33m\u001b[0m\u001b[0m\n\u001b[1;32m---> 15\u001b[1;33m         \u001b[0mresults\u001b[0m \u001b[1;33m=\u001b[0m \u001b[0mParallel\u001b[0m\u001b[1;33m(\u001b[0m\u001b[0mn_jobs\u001b[0m\u001b[1;33m=\u001b[0m\u001b[0mnum_cores\u001b[0m\u001b[1;33m)\u001b[0m\u001b[1;33m(\u001b[0m\u001b[0mdelayed\u001b[0m\u001b[1;33m(\u001b[0m\u001b[0mvalue_func\u001b[0m\u001b[1;33m)\u001b[0m\u001b[1;33m(\u001b[0m\u001b[0mmodelState\u001b[0m\u001b[1;33m(\u001b[0m\u001b[0mind\u001b[0m\u001b[1;33m,\u001b[0m\u001b[0mne\u001b[0m\u001b[1;33m,\u001b[0m\u001b[0mnx\u001b[0m\u001b[1;33m,\u001b[0m\u001b[0mT\u001b[0m\u001b[1;33m,\u001b[0m\u001b[0mage\u001b[0m\u001b[1;33m,\u001b[0m\u001b[0mP\u001b[0m\u001b[1;33m,\u001b[0m\u001b[0mxgrid\u001b[0m\u001b[1;33m,\u001b[0m\u001b[0megrid\u001b[0m\u001b[1;33m,\u001b[0m\u001b[0mssigma\u001b[0m\u001b[1;33m,\u001b[0m\u001b[0mbbeta\u001b[0m\u001b[1;33m,\u001b[0m\u001b[0mw\u001b[0m\u001b[1;33m,\u001b[0m\u001b[0mr\u001b[0m\u001b[1;33m)\u001b[0m\u001b[1;33m)\u001b[0m \u001b[1;32mfor\u001b[0m \u001b[0mind\u001b[0m \u001b[1;32min\u001b[0m \u001b[0mrange\u001b[0m\u001b[1;33m(\u001b[0m\u001b[1;36m0\u001b[0m\u001b[1;33m,\u001b[0m\u001b[0mnx\u001b[0m\u001b[1;33m*\u001b[0m\u001b[0mne\u001b[0m\u001b[1;33m)\u001b[0m\u001b[1;33m)\u001b[0m\u001b[1;33m\u001b[0m\u001b[1;33m\u001b[0m\u001b[0m\n\u001b[0m\u001b[0;32m     16\u001b[0m \u001b[1;33m\u001b[0m\u001b[0m\n\u001b[0;32m     17\u001b[0m         \u001b[1;31m# I write the results on the value matrix: V\u001b[0m\u001b[1;33m\u001b[0m\u001b[1;33m\u001b[0m\u001b[1;33m\u001b[0m\u001b[0m\n",
      "\u001b[1;32m~\\Anaconda3\\lib\\site-packages\\joblib\\parallel.py\u001b[0m in \u001b[0;36m__call__\u001b[1;34m(self, iterable)\u001b[0m\n\u001b[0;32m    922\u001b[0m                 \u001b[0mself\u001b[0m\u001b[1;33m.\u001b[0m\u001b[0m_iterating\u001b[0m \u001b[1;33m=\u001b[0m \u001b[0mself\u001b[0m\u001b[1;33m.\u001b[0m\u001b[0m_original_iterator\u001b[0m \u001b[1;32mis\u001b[0m \u001b[1;32mnot\u001b[0m \u001b[1;32mNone\u001b[0m\u001b[1;33m\u001b[0m\u001b[1;33m\u001b[0m\u001b[0m\n\u001b[0;32m    923\u001b[0m \u001b[1;33m\u001b[0m\u001b[0m\n\u001b[1;32m--> 924\u001b[1;33m             \u001b[1;32mwhile\u001b[0m \u001b[0mself\u001b[0m\u001b[1;33m.\u001b[0m\u001b[0mdispatch_one_batch\u001b[0m\u001b[1;33m(\u001b[0m\u001b[0miterator\u001b[0m\u001b[1;33m)\u001b[0m\u001b[1;33m:\u001b[0m\u001b[1;33m\u001b[0m\u001b[1;33m\u001b[0m\u001b[0m\n\u001b[0m\u001b[0;32m    925\u001b[0m                 \u001b[1;32mpass\u001b[0m\u001b[1;33m\u001b[0m\u001b[1;33m\u001b[0m\u001b[0m\n\u001b[0;32m    926\u001b[0m \u001b[1;33m\u001b[0m\u001b[0m\n",
      "\u001b[1;32m~\\Anaconda3\\lib\\site-packages\\joblib\\parallel.py\u001b[0m in \u001b[0;36mdispatch_one_batch\u001b[1;34m(self, iterator)\u001b[0m\n\u001b[0;32m    757\u001b[0m                 \u001b[1;32mreturn\u001b[0m \u001b[1;32mFalse\u001b[0m\u001b[1;33m\u001b[0m\u001b[1;33m\u001b[0m\u001b[0m\n\u001b[0;32m    758\u001b[0m             \u001b[1;32melse\u001b[0m\u001b[1;33m:\u001b[0m\u001b[1;33m\u001b[0m\u001b[1;33m\u001b[0m\u001b[0m\n\u001b[1;32m--> 759\u001b[1;33m                 \u001b[0mself\u001b[0m\u001b[1;33m.\u001b[0m\u001b[0m_dispatch\u001b[0m\u001b[1;33m(\u001b[0m\u001b[0mtasks\u001b[0m\u001b[1;33m)\u001b[0m\u001b[1;33m\u001b[0m\u001b[1;33m\u001b[0m\u001b[0m\n\u001b[0m\u001b[0;32m    760\u001b[0m                 \u001b[1;32mreturn\u001b[0m \u001b[1;32mTrue\u001b[0m\u001b[1;33m\u001b[0m\u001b[1;33m\u001b[0m\u001b[0m\n\u001b[0;32m    761\u001b[0m \u001b[1;33m\u001b[0m\u001b[0m\n",
      "\u001b[1;32m~\\Anaconda3\\lib\\site-packages\\joblib\\parallel.py\u001b[0m in \u001b[0;36m_dispatch\u001b[1;34m(self, batch)\u001b[0m\n\u001b[0;32m    714\u001b[0m         \u001b[1;32mwith\u001b[0m \u001b[0mself\u001b[0m\u001b[1;33m.\u001b[0m\u001b[0m_lock\u001b[0m\u001b[1;33m:\u001b[0m\u001b[1;33m\u001b[0m\u001b[1;33m\u001b[0m\u001b[0m\n\u001b[0;32m    715\u001b[0m             \u001b[0mjob_idx\u001b[0m \u001b[1;33m=\u001b[0m \u001b[0mlen\u001b[0m\u001b[1;33m(\u001b[0m\u001b[0mself\u001b[0m\u001b[1;33m.\u001b[0m\u001b[0m_jobs\u001b[0m\u001b[1;33m)\u001b[0m\u001b[1;33m\u001b[0m\u001b[1;33m\u001b[0m\u001b[0m\n\u001b[1;32m--> 716\u001b[1;33m             \u001b[0mjob\u001b[0m \u001b[1;33m=\u001b[0m \u001b[0mself\u001b[0m\u001b[1;33m.\u001b[0m\u001b[0m_backend\u001b[0m\u001b[1;33m.\u001b[0m\u001b[0mapply_async\u001b[0m\u001b[1;33m(\u001b[0m\u001b[0mbatch\u001b[0m\u001b[1;33m,\u001b[0m \u001b[0mcallback\u001b[0m\u001b[1;33m=\u001b[0m\u001b[0mcb\u001b[0m\u001b[1;33m)\u001b[0m\u001b[1;33m\u001b[0m\u001b[1;33m\u001b[0m\u001b[0m\n\u001b[0m\u001b[0;32m    717\u001b[0m             \u001b[1;31m# A job can complete so quickly than its callback is\u001b[0m\u001b[1;33m\u001b[0m\u001b[1;33m\u001b[0m\u001b[1;33m\u001b[0m\u001b[0m\n\u001b[0;32m    718\u001b[0m             \u001b[1;31m# called before we get here, causing self._jobs to\u001b[0m\u001b[1;33m\u001b[0m\u001b[1;33m\u001b[0m\u001b[1;33m\u001b[0m\u001b[0m\n",
      "\u001b[1;32m~\\Anaconda3\\lib\\site-packages\\joblib\\_parallel_backends.py\u001b[0m in \u001b[0;36mapply_async\u001b[1;34m(self, func, callback)\u001b[0m\n\u001b[0;32m    180\u001b[0m     \u001b[1;32mdef\u001b[0m \u001b[0mapply_async\u001b[0m\u001b[1;33m(\u001b[0m\u001b[0mself\u001b[0m\u001b[1;33m,\u001b[0m \u001b[0mfunc\u001b[0m\u001b[1;33m,\u001b[0m \u001b[0mcallback\u001b[0m\u001b[1;33m=\u001b[0m\u001b[1;32mNone\u001b[0m\u001b[1;33m)\u001b[0m\u001b[1;33m:\u001b[0m\u001b[1;33m\u001b[0m\u001b[1;33m\u001b[0m\u001b[0m\n\u001b[0;32m    181\u001b[0m         \u001b[1;34m\"\"\"Schedule a func to be run\"\"\"\u001b[0m\u001b[1;33m\u001b[0m\u001b[1;33m\u001b[0m\u001b[0m\n\u001b[1;32m--> 182\u001b[1;33m         \u001b[0mresult\u001b[0m \u001b[1;33m=\u001b[0m \u001b[0mImmediateResult\u001b[0m\u001b[1;33m(\u001b[0m\u001b[0mfunc\u001b[0m\u001b[1;33m)\u001b[0m\u001b[1;33m\u001b[0m\u001b[1;33m\u001b[0m\u001b[0m\n\u001b[0m\u001b[0;32m    183\u001b[0m         \u001b[1;32mif\u001b[0m \u001b[0mcallback\u001b[0m\u001b[1;33m:\u001b[0m\u001b[1;33m\u001b[0m\u001b[1;33m\u001b[0m\u001b[0m\n\u001b[0;32m    184\u001b[0m             \u001b[0mcallback\u001b[0m\u001b[1;33m(\u001b[0m\u001b[0mresult\u001b[0m\u001b[1;33m)\u001b[0m\u001b[1;33m\u001b[0m\u001b[1;33m\u001b[0m\u001b[0m\n",
      "\u001b[1;32m~\\Anaconda3\\lib\\site-packages\\joblib\\_parallel_backends.py\u001b[0m in \u001b[0;36m__init__\u001b[1;34m(self, batch)\u001b[0m\n\u001b[0;32m    547\u001b[0m         \u001b[1;31m# Don't delay the application, to avoid keeping the input\u001b[0m\u001b[1;33m\u001b[0m\u001b[1;33m\u001b[0m\u001b[1;33m\u001b[0m\u001b[0m\n\u001b[0;32m    548\u001b[0m         \u001b[1;31m# arguments in memory\u001b[0m\u001b[1;33m\u001b[0m\u001b[1;33m\u001b[0m\u001b[1;33m\u001b[0m\u001b[0m\n\u001b[1;32m--> 549\u001b[1;33m         \u001b[0mself\u001b[0m\u001b[1;33m.\u001b[0m\u001b[0mresults\u001b[0m \u001b[1;33m=\u001b[0m \u001b[0mbatch\u001b[0m\u001b[1;33m(\u001b[0m\u001b[1;33m)\u001b[0m\u001b[1;33m\u001b[0m\u001b[1;33m\u001b[0m\u001b[0m\n\u001b[0m\u001b[0;32m    550\u001b[0m \u001b[1;33m\u001b[0m\u001b[0m\n\u001b[0;32m    551\u001b[0m     \u001b[1;32mdef\u001b[0m \u001b[0mget\u001b[0m\u001b[1;33m(\u001b[0m\u001b[0mself\u001b[0m\u001b[1;33m)\u001b[0m\u001b[1;33m:\u001b[0m\u001b[1;33m\u001b[0m\u001b[1;33m\u001b[0m\u001b[0m\n",
      "\u001b[1;32m~\\Anaconda3\\lib\\site-packages\\joblib\\parallel.py\u001b[0m in \u001b[0;36m__call__\u001b[1;34m(self)\u001b[0m\n\u001b[0;32m    223\u001b[0m         \u001b[1;32mwith\u001b[0m \u001b[0mparallel_backend\u001b[0m\u001b[1;33m(\u001b[0m\u001b[0mself\u001b[0m\u001b[1;33m.\u001b[0m\u001b[0m_backend\u001b[0m\u001b[1;33m,\u001b[0m \u001b[0mn_jobs\u001b[0m\u001b[1;33m=\u001b[0m\u001b[0mself\u001b[0m\u001b[1;33m.\u001b[0m\u001b[0m_n_jobs\u001b[0m\u001b[1;33m)\u001b[0m\u001b[1;33m:\u001b[0m\u001b[1;33m\u001b[0m\u001b[1;33m\u001b[0m\u001b[0m\n\u001b[0;32m    224\u001b[0m             return [func(*args, **kwargs)\n\u001b[1;32m--> 225\u001b[1;33m                     for func, args, kwargs in self.items]\n\u001b[0m\u001b[0;32m    226\u001b[0m \u001b[1;33m\u001b[0m\u001b[0m\n\u001b[0;32m    227\u001b[0m     \u001b[1;32mdef\u001b[0m \u001b[0m__len__\u001b[0m\u001b[1;33m(\u001b[0m\u001b[0mself\u001b[0m\u001b[1;33m)\u001b[0m\u001b[1;33m:\u001b[0m\u001b[1;33m\u001b[0m\u001b[1;33m\u001b[0m\u001b[0m\n",
      "\u001b[1;32m~\\Anaconda3\\lib\\site-packages\\joblib\\parallel.py\u001b[0m in \u001b[0;36m<listcomp>\u001b[1;34m(.0)\u001b[0m\n\u001b[0;32m    223\u001b[0m         \u001b[1;32mwith\u001b[0m \u001b[0mparallel_backend\u001b[0m\u001b[1;33m(\u001b[0m\u001b[0mself\u001b[0m\u001b[1;33m.\u001b[0m\u001b[0m_backend\u001b[0m\u001b[1;33m,\u001b[0m \u001b[0mn_jobs\u001b[0m\u001b[1;33m=\u001b[0m\u001b[0mself\u001b[0m\u001b[1;33m.\u001b[0m\u001b[0m_n_jobs\u001b[0m\u001b[1;33m)\u001b[0m\u001b[1;33m:\u001b[0m\u001b[1;33m\u001b[0m\u001b[1;33m\u001b[0m\u001b[0m\n\u001b[0;32m    224\u001b[0m             return [func(*args, **kwargs)\n\u001b[1;32m--> 225\u001b[1;33m                     for func, args, kwargs in self.items]\n\u001b[0m\u001b[0;32m    226\u001b[0m \u001b[1;33m\u001b[0m\u001b[0m\n\u001b[0;32m    227\u001b[0m     \u001b[1;32mdef\u001b[0m \u001b[0m__len__\u001b[0m\u001b[1;33m(\u001b[0m\u001b[0mself\u001b[0m\u001b[1;33m)\u001b[0m\u001b[1;33m:\u001b[0m\u001b[1;33m\u001b[0m\u001b[1;33m\u001b[0m\u001b[0m\n",
      "\u001b[1;32m<ipython-input-97-0d89b891a4ee>\u001b[0m in \u001b[0;36mvalue_func\u001b[1;34m(states)\u001b[0m\n\u001b[0;32m     26\u001b[0m                 \u001b[1;32mif\u001b[0m\u001b[1;33m(\u001b[0m\u001b[0mage\u001b[0m \u001b[1;33m<\u001b[0m \u001b[0mT\u001b[0m\u001b[1;33m-\u001b[0m\u001b[1;36m1\u001b[0m\u001b[1;33m)\u001b[0m\u001b[1;33m:\u001b[0m \u001b[1;31m#before you die,\u001b[0m\u001b[1;33m\u001b[0m\u001b[1;33m\u001b[0m\u001b[0m\n\u001b[0;32m     27\u001b[0m                         \u001b[1;32mfor\u001b[0m \u001b[0miep\u001b[0m \u001b[1;32min\u001b[0m \u001b[0mrange\u001b[0m\u001b[1;33m(\u001b[0m\u001b[1;36m0\u001b[0m\u001b[1;33m,\u001b[0m\u001b[0mne\u001b[0m\u001b[1;33m)\u001b[0m\u001b[1;33m:\u001b[0m \u001b[1;31m# - for every possible next realization of the shock\u001b[0m\u001b[1;33m\u001b[0m\u001b[1;33m\u001b[0m\u001b[0m\n\u001b[1;32m---> 28\u001b[1;33m                                 \u001b[0mexpected\u001b[0m \u001b[1;33m=\u001b[0m \u001b[0mexpected\u001b[0m \u001b[1;33m+\u001b[0m \u001b[0mP\u001b[0m\u001b[1;33m[\u001b[0m\u001b[0mie\u001b[0m\u001b[1;33m,\u001b[0m \u001b[0miep\u001b[0m\u001b[1;33m]\u001b[0m\u001b[1;33m*\u001b[0m\u001b[0mV\u001b[0m\u001b[1;33m[\u001b[0m\u001b[0mage\u001b[0m\u001b[1;33m+\u001b[0m\u001b[1;36m1\u001b[0m\u001b[1;33m,\u001b[0m \u001b[0mixp\u001b[0m\u001b[1;33m,\u001b[0m \u001b[0miep\u001b[0m\u001b[1;33m]\u001b[0m \u001b[1;31m# form an expectation - for last period... haha no error\u001b[0m\u001b[1;33m\u001b[0m\u001b[1;33m\u001b[0m\u001b[0m\n\u001b[0m\u001b[0;32m     29\u001b[0m         \u001b[1;31m#If you are not in the last period, expectation is not zero\u001b[0m\u001b[1;33m\u001b[0m\u001b[1;33m\u001b[0m\u001b[1;33m\u001b[0m\u001b[0m\n\u001b[0;32m     30\u001b[0m         \u001b[1;31m#2. Possible consumption functions\u001b[0m\u001b[1;33m\u001b[0m\u001b[1;33m\u001b[0m\u001b[1;33m\u001b[0m\u001b[0m\n",
      "\u001b[1;31mKeyboardInterrupt\u001b[0m: "
     ]
    }
   ],
   "source": [
    "#--------------------------------#\n",
    "#     Life-cycle computation     #\n",
    "#--------------------------------#\n",
    "\n",
    "print(\" \")\n",
    "print(\"Life cycle computation: \")\n",
    "print(\" \")\n",
    "\n",
    "\n",
    "start = time.time()\n",
    "\n",
    "for age in reversed(range(0,T)): #starting from \"T\"\n",
    "\n",
    "\t# This function computes `value_func` in parallel for all the states\n",
    "\tresults = Parallel(n_jobs=num_cores)(delayed(value_func)(modelState(ind,ne,nx,T,age,P,xgrid,egrid,ssigma,bbeta,w,r)) for ind in range(0,nx*ne))\n",
    "\n",
    "\t# I write the results on the value matrix: V\n",
    "\tfor ind in range(0,nx*ne): # for every case for shocks and state vars\n",
    "\t\t\n",
    "\t\tix = int(math.floor(ind/ne)); # current state vars \n",
    "\t\tie = int(math.floor(ind%ne)); # current shocks\n",
    "\n",
    "\t\tV[age, ix, ie] = results[ind][0];\n",
    "\n",
    "\tfinish = time.time() - start\n",
    "\tprint(\"Age: \", age+1, \". Time: \", round(finish, 4), \" seconds.\")\n",
    "\n",
    "finish = time.time() - start\n",
    "print(\"TOTAL ELAPSED TIME: \", round(finish, 4), \" seconds. \\n\")\n",
    "\n",
    "\n",
    "#---------------------#\n",
    "#     Some checks     #\n",
    "#---------------------#\n",
    "\n",
    "print(\" - - - - - - - - - - - - - - - - - - - - - \\n\")\n",
    "print(\"The first entries of the value function: \\n\")\n",
    "\n",
    "for i in range(0,3):\n",
    "\tprint(round(V[0, 0, i], 5)) # 소수점 5번째 자리까지만 표시\n",
    "\n",
    "print(\" \\n\")"
   ]
  },
  {
   "cell_type": "code",
   "execution_count": 101,
   "metadata": {},
   "outputs": [
    {
     "ename": "NameError",
     "evalue": "name 'result' is not defined",
     "output_type": "error",
     "traceback": [
      "\u001b[1;31m---------------------------------------------------------------------------\u001b[0m",
      "\u001b[1;31mNameError\u001b[0m                                 Traceback (most recent call last)",
      "\u001b[1;32m<ipython-input-101-0ac921c19f1a>\u001b[0m in \u001b[0;36m<module>\u001b[1;34m\u001b[0m\n\u001b[1;32m----> 1\u001b[1;33m \u001b[0mresult\u001b[0m\u001b[1;33m\u001b[0m\u001b[1;33m\u001b[0m\u001b[0m\n\u001b[0m",
      "\u001b[1;31mNameError\u001b[0m: name 'result' is not defined"
     ]
    }
   ],
   "source": [
    "result"
   ]
  },
  {
   "cell_type": "code",
   "execution_count": 100,
   "metadata": {},
   "outputs": [
    {
     "data": {
      "text/plain": [
       "22500"
      ]
     },
     "execution_count": 100,
     "metadata": {},
     "output_type": "execute_result"
    }
   ],
   "source": [
    "nx*ne"
   ]
  },
  {
   "cell_type": "code",
   "execution_count": 102,
   "metadata": {},
   "outputs": [
    {
     "ename": "NameError",
     "evalue": "name 'V_ow' is not defined",
     "output_type": "error",
     "traceback": [
      "\u001b[1;31m---------------------------------------------------------------------------\u001b[0m",
      "\u001b[1;31mNameError\u001b[0m                                 Traceback (most recent call last)",
      "\u001b[1;32m<ipython-input-102-575f5e8e5fb5>\u001b[0m in \u001b[0;36m<module>\u001b[1;34m\u001b[0m\n\u001b[1;32m----> 1\u001b[1;33m \u001b[0mV_ow\u001b[0m\u001b[1;33m\u001b[0m\u001b[1;33m\u001b[0m\u001b[0m\n\u001b[0m",
      "\u001b[1;31mNameError\u001b[0m: name 'V_ow' is not defined"
     ]
    }
   ],
   "source": [
    "V_ow"
   ]
  },
  {
   "cell_type": "code",
   "execution_count": 99,
   "metadata": {},
   "outputs": [
    {
     "data": {
      "text/plain": [
       "array([[[ 0.        ,  0.        ,  0.        , ...,  0.        ,\n",
       "          0.        ,  0.        ],\n",
       "        [ 0.        ,  0.        ,  0.        , ...,  0.        ,\n",
       "          0.        ,  0.        ],\n",
       "        [ 0.        ,  0.        ,  0.        , ...,  0.        ,\n",
       "          0.        ,  0.        ],\n",
       "        ...,\n",
       "        [ 0.        ,  0.        ,  0.        , ...,  0.        ,\n",
       "          0.        ,  0.        ],\n",
       "        [ 0.        ,  0.        ,  0.        , ...,  0.        ,\n",
       "          0.        ,  0.        ],\n",
       "        [ 0.        ,  0.        ,  0.        , ...,  0.        ,\n",
       "          0.        ,  0.        ]],\n",
       "\n",
       "       [[ 0.        ,  0.        ,  0.        , ...,  0.        ,\n",
       "          0.        ,  0.        ],\n",
       "        [ 0.        ,  0.        ,  0.        , ...,  0.        ,\n",
       "          0.        ,  0.        ],\n",
       "        [ 0.        ,  0.        ,  0.        , ...,  0.        ,\n",
       "          0.        ,  0.        ],\n",
       "        ...,\n",
       "        [ 0.        ,  0.        ,  0.        , ...,  0.        ,\n",
       "          0.        ,  0.        ],\n",
       "        [ 0.        ,  0.        ,  0.        , ...,  0.        ,\n",
       "          0.        ,  0.        ],\n",
       "        [ 0.        ,  0.        ,  0.        , ...,  0.        ,\n",
       "          0.        ,  0.        ]],\n",
       "\n",
       "       [[ 0.        ,  0.        ,  0.        , ...,  0.        ,\n",
       "          0.        ,  0.        ],\n",
       "        [ 0.        ,  0.        ,  0.        , ...,  0.        ,\n",
       "          0.        ,  0.        ],\n",
       "        [ 0.        ,  0.        ,  0.        , ...,  0.        ,\n",
       "          0.        ,  0.        ],\n",
       "        ...,\n",
       "        [ 0.        ,  0.        ,  0.        , ...,  0.        ,\n",
       "          0.        ,  0.        ],\n",
       "        [ 0.        ,  0.        ,  0.        , ...,  0.        ,\n",
       "          0.        ,  0.        ],\n",
       "        [ 0.        ,  0.        ,  0.        , ...,  0.        ,\n",
       "          0.        ,  0.        ]],\n",
       "\n",
       "       ...,\n",
       "\n",
       "       [[-0.7177555 , -0.69940805, -0.67853084, ..., -0.4980965 ,\n",
       "         -0.48319193, -0.47072357],\n",
       "        [-0.71758002, -0.69924141, -0.67837396, ..., -0.49801195,\n",
       "         -0.48311237, -0.47064809],\n",
       "        [-0.71740465, -0.69907482, -0.67821713, ..., -0.49792745,\n",
       "         -0.48303283, -0.47057262],\n",
       "        ...,\n",
       "        [-0.52541028, -0.51549069, -0.50405388, ..., -0.39717241,\n",
       "         -0.38764127, -0.37958722],\n",
       "        [-0.52531623, -0.51540016, -0.50396731, ..., -0.39711865,\n",
       "         -0.38759008, -0.37953814],\n",
       "        [-0.52522224, -0.51530967, -0.50388078, ..., -0.39706493,\n",
       "         -0.38753889, -0.37948907]],\n",
       "\n",
       "       [[-0.48750505, -0.47400597, -0.4595748 , ..., -0.3368483 ,\n",
       "         -0.32658368, -0.31749209],\n",
       "        [-0.48733148, -0.47384189, -0.45942056, ..., -0.3367654 ,\n",
       "         -0.32650577, -0.31741845],\n",
       "        [-0.48715802, -0.47367785, -0.45926634, ..., -0.33668256,\n",
       "         -0.32642789, -0.31734487],\n",
       "        ...,\n",
       "        [-0.31797279, -0.31216552, -0.30583972, ..., -0.2461554 ,\n",
       "         -0.24062913, -0.23566238],\n",
       "        [-0.31789895, -0.31209434, -0.3057714 , ..., -0.24611113,\n",
       "         -0.24058684, -0.23562181],\n",
       "        [-0.31782513, -0.31202319, -0.3057031 , ..., -0.24606689,\n",
       "         -0.24054455, -0.23558126]],\n",
       "\n",
       "       [[-0.24849135, -0.24085616, -0.23345519, ..., -0.17085451,\n",
       "         -0.16560203, -0.16051085],\n",
       "        [-0.24831957, -0.24069477, -0.23330356, ..., -0.17077328,\n",
       "         -0.16552572, -0.16043916],\n",
       "        [-0.24814803, -0.2405336 , -0.23315214, ..., -0.17069213,\n",
       "         -0.16544948, -0.16036753],\n",
       "        ...,\n",
       "        [-0.12207453, -0.1202026 , -0.11833046, ..., -0.09979676,\n",
       "         -0.09798153, -0.09617659],\n",
       "        [-0.12203305, -0.12016239, -0.11829149, ..., -0.09976904,\n",
       "         -0.09795481, -0.09615084],\n",
       "        [-0.12199161, -0.1201222 , -0.11825255, ..., -0.09974134,\n",
       "         -0.0979281 , -0.09612511]]])"
      ]
     },
     "execution_count": 99,
     "metadata": {},
     "output_type": "execute_result"
    }
   ],
   "source": [
    "V"
   ]
  },
  {
   "cell_type": "code",
   "execution_count": null,
   "metadata": {},
   "outputs": [],
   "source": [
    "# Faster Version with numba"
   ]
  },
  {
   "cell_type": "code",
   "execution_count": null,
   "metadata": {},
   "outputs": [],
   "source": [
    "#--------------------------------#\n",
    "#         House-keeping          #\n",
    "#--------------------------------#\n",
    "\n",
    "from numba import jit, jitclass, njit, prange, int64, float64\n",
    "import numpy\n",
    "import math\n",
    "import time\n",
    "from scipy.stats import norm\n",
    "from collections import OrderedDict\n",
    "import sys\n"
   ]
  },
  {
   "cell_type": "code",
   "execution_count": 32,
   "metadata": {},
   "outputs": [
    {
     "name": "stdout",
     "output_type": "stream",
     "text": [
      " \n",
      "Life cycle computation: \n",
      " \n",
      "Age:  10 . Time:  1.63  seconds.\n",
      "Age:  9 . Time:  2.007  seconds.\n",
      "Age:  8 . Time:  2.379  seconds.\n",
      "Age:  7 . Time:  2.8048  seconds.\n",
      "Age:  6 . Time:  3.1679  seconds.\n",
      "Age:  5 . Time:  3.5249  seconds.\n",
      "Age:  4 . Time:  3.9079  seconds.\n",
      "Age:  3 . Time:  4.2948  seconds.\n",
      "Age:  2 . Time:  4.6808  seconds.\n",
      "Age:  1 . Time:  5.0538  seconds.\n",
      "TOTAL ELAPSED TIME:  5.0558  seconds. \n",
      "\n",
      " - - - - - - - - - - - - - - - - - - - - - \n",
      "\n",
      "The first entries of the value function: \n",
      "\n",
      "-2.11762\n",
      "-2.07729\n",
      "-2.02366\n",
      " \n",
      "\n"
     ]
    }
   ],
   "source": [
    "\n",
    "#--------------------------------#\n",
    "#         Initialization         #\n",
    "#--------------------------------#\n",
    "\n",
    "# Number of workers\n",
    "\n",
    "# Grid for x\n",
    "nx            = 1500;\n",
    "xmin          = 0.1;\n",
    "xmax          = 4.0;\n",
    "\n",
    "# Grid for e: parameters for Tauchen\n",
    "ne            = 15;\n",
    "ssigma_eps    = 0.02058;\n",
    "llambda_eps   = 0.99;\n",
    "m             = 1.5;\n",
    "\n",
    "# Utility function\n",
    "ssigma        = 2;\n",
    "bbeta         = 0.97;\n",
    "T             = 10;\n",
    "\n",
    "# Prices\n",
    "r             = 0.07;\n",
    "w             = 5;\n",
    "\n",
    "# Initialize the grid for X\n",
    "xgrid = numpy.zeros(nx)\n",
    "\n",
    "# Initialize the grid for E and the transition probability matrix\n",
    "egrid = numpy.zeros(ne)\n",
    "P     = numpy.zeros((ne, ne))\n",
    "\n",
    "\n",
    "\n",
    "\n",
    "#--------------------------------#\n",
    "#         Grid creation          #\n",
    "#--------------------------------#\n",
    "\n",
    "# Function to construct the grid for capital (x)\n",
    "size = nx;\n",
    "xstep = (xmax - xmin) /(size - 1);\n",
    "it = 0;\n",
    "for i in range(0,nx):\n",
    "\txgrid[i] = xmin + it*xstep;\n",
    "\tit = it+1;\n",
    "\n",
    "\n",
    "# Function to construct the grid for productivity (e) using Tauchen (1986)\n",
    "size = ne;\n",
    "ssigma_y = math.sqrt(math.pow(ssigma_eps, 2) / (1 - math.pow(llambda_eps,2)));\n",
    "estep = 2*ssigma_y*m / (size-1);\n",
    "it = 0;\n",
    "for i in range(0,ne):\n",
    "\tegrid[i] = (-m*math.sqrt(math.pow(ssigma_eps, 2) / (1 - math.pow(llambda_eps,2))) + it*estep);\n",
    "\tit = it+1;\n",
    "\n",
    "\n",
    "# Function to construct the transition probability matrix for productivity (P) using Tauchen (1986)\n",
    "mm = egrid[1] - egrid[0];\n",
    "for j in range(0,ne):\n",
    "\tfor k in range(0,ne):\n",
    "\t\tif (k == 0):\n",
    "\t\t\tP[j, k] = norm.cdf((egrid[k] - llambda_eps*egrid[j] + (mm/2))/ssigma_eps);\n",
    "\t\telif (k == ne-1):\n",
    "\t\t\tP[j, k] = 1 - norm.cdf((egrid[k] - llambda_eps*egrid[j] - (mm/2))/ssigma_eps);\n",
    "\t\telse:\n",
    "\t\t\tP[j, k] = norm.cdf((egrid[k] - llambda_eps*egrid[j] + (mm/2))/ssigma_eps) - norm.cdf((egrid[k] - llambda_eps*egrid[j] - (mm/2))/ssigma_eps);\n",
    "\n",
    "\n",
    "# Exponential of the grid e\n",
    "for i in range(0,ne):\n",
    "\tegrid[i] = math.exp(egrid[i]);\n",
    "\n",
    "\n",
    "\n",
    "#--------------------------------#\n",
    "#     Structure and function     #\n",
    "#--------------------------------#\n",
    "\n",
    "# Value function\n",
    "VV = math.pow(-10.0, 5);\n",
    "\n",
    "specs = OrderedDict()\n",
    "specs['ind'] = int64\n",
    "specs['ne'] = int64\n",
    "specs['nx'] = int64\n",
    "specs['T'] = int64\n",
    "specs['age'] = int64\n",
    "specs['P'] = float64[:,:]\n",
    "specs['xgrid'] = float64[:]\n",
    "specs['egrid'] = float64[:]\n",
    "specs['ssigma'] = float64\n",
    "specs['bbeta'] = float64\n",
    "specs['w'] = float64\n",
    "specs['r'] = float64\n",
    "specs['V'] = float64[:,:,:]\n",
    "\n",
    "\n",
    "# Data structure of state and exogenous variables\n",
    "@jitclass(specs)\n",
    "class modelState(object):\n",
    "\tdef __init__(self,ind,ne,nx,T,age,P,xgrid,egrid,ssigma,bbeta,w,r,V):\n",
    "\t\tself.ind\t\t= ind\n",
    "\t\tself.ne\t\t\t= ne\n",
    "\t\tself.nx\t\t\t= nx\n",
    "\t\tself.T\t\t\t= T\n",
    "\t\tself.age\t\t= age\n",
    "\t\tself.P\t\t\t= P\n",
    "\t\tself.xgrid\t\t= xgrid\n",
    "\t\tself.egrid\t\t= egrid\n",
    "\t\tself.ssigma\t\t= ssigma\n",
    "\t\tself.bbeta\t\t= bbeta\n",
    "\t\tself.w\t\t\t= w\n",
    "\t\tself.r\t\t\t= r\n",
    "\t\tself.V\t\t\t= V\n",
    "\n",
    "# Function that returns value for a given state\n",
    "# ind: a unique state that corresponds to a pair (ie,ix)\n",
    "@njit\n",
    "def value_func(states):\n",
    "\n",
    "\tind = states.ind\n",
    "\tne = states.ne\n",
    "\tnx = states.nx\n",
    "\tT = states.T\n",
    "\tage = states.age\n",
    "\tP = states.P\n",
    "\txgrid = states.xgrid\n",
    "\tegrid = states.egrid\n",
    "\tssigma = states.ssigma\n",
    "\tbbeta = states.bbeta\n",
    "\tw = states.w\n",
    "\tr = states.r\n",
    "\tV = states.V\n",
    "\n",
    "\tix = int(math.floor(ind/ne));\n",
    "\tie = int(math.floor(ind%ne));\n",
    "\n",
    "\tVV = math.pow(-10.0, 3)\n",
    "\tfor ixp in range(0,nx):\n",
    "\t\texpected = 0.0;\n",
    "\t\tif(age < T-1):\n",
    "\t\t\tfor iep in range(0,ne):\n",
    "\t\t\t\texpected = expected + P[ie, iep]*V[age+1, ixp, iep]\n",
    "\n",
    "\t\tcons  = (1 + r)*xgrid[ix] + egrid[ie]*w - xgrid[ixp];\n",
    "\n",
    "\t\tutility = math.pow(cons, (1-ssigma))/(1-ssigma) + bbeta*expected;\n",
    "\n",
    "\t\tif(cons <= 0):\n",
    "\t\t\tutility = math.pow(-10.0,5);\n",
    "\t\t\n",
    "\t\tif(utility >= VV):\n",
    "\t\t\tVV = utility;\n",
    "\n",
    "\t\tutility = 0.0;\n",
    "\n",
    "\treturn[VV];\n",
    "\n",
    "\n",
    "\n",
    "#--------------------------------#\n",
    "#     Life-cycle computation     #\n",
    "#--------------------------------#\n",
    "\n",
    "print(\" \")\n",
    "print(\"Life cycle computation: \")\n",
    "print(\" \")\n",
    "\n",
    "@njit(parallel=True)\n",
    "def compute(age, V):\n",
    "\n",
    "\tfor ind in prange(0,nx*ne):\n",
    "\n",
    "\t\tstates = modelState(ind, ne, nx, T, age, P, xgrid, egrid, ssigma, bbeta, w, r, V)\n",
    "\t\t\n",
    "\t\tix = int(math.floor(ind/ne));\n",
    "\t\tie = int(math.floor(ind%ne));\n",
    "\n",
    "\t\tV[age, ix, ie] = value_func(states)[0];\n",
    "\n",
    "\treturn(V)\n",
    "\n",
    "\n",
    "\n",
    "start = time.time()\n",
    "# Initialize value function V\n",
    "V     = numpy.zeros((T, nx, ne))\n",
    "\n",
    "for age in range(T-1, -1, -1):\n",
    "\tV = compute(age, V)\n",
    "\n",
    "\tfinish = time.time() - start\n",
    "\tprint(\"Age: \", age+1, \". Time: \", round(finish, 4), \" seconds.\")\n",
    "\n",
    "\n",
    "finish = time.time() - start\n",
    "print(\"TOTAL ELAPSED TIME: \", round(finish, 4), \" seconds. \\n\")\n",
    "\n",
    "\n",
    "#---------------------#\n",
    "#     Some checks     #\n",
    "#---------------------#\n",
    "\n",
    "print(\" - - - - - - - - - - - - - - - - - - - - - \\n\")\n",
    "print(\"The first entries of the value function: \\n\")\n",
    "\n",
    "for i in range(0,3):\n",
    "\tprint(round(V[0, 0, i], 5))\n",
    "\n",
    "print(\" \\n\")"
   ]
  }
 ],
 "metadata": {
  "kernelspec": {
   "display_name": "Python 3",
   "language": "python",
   "name": "python3"
  },
  "language_info": {
   "codemirror_mode": {
    "name": "ipython",
    "version": 3
   },
   "file_extension": ".py",
   "mimetype": "text/x-python",
   "name": "python",
   "nbconvert_exporter": "python",
   "pygments_lexer": "ipython3",
   "version": "3.7.4"
  }
 },
 "nbformat": 4,
 "nbformat_minor": 2
}
